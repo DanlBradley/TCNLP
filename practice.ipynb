{
 "cells": [
  {
   "cell_type": "code",
   "execution_count": null,
   "metadata": {},
   "outputs": [],
   "source": [
    "#Basic libraries\n",
    "from bs4 import BeautifulSoup\n",
    "import requests\n",
    "import pandas as pd\n",
    "import numpy as np\n",
    "import matplotlib.pyplot as plt\n",
    "import csv\n",
    "\n",
    "#Selenium and related libraries\n",
    "import selenium\n",
    "from selenium import webdriver\n",
    "from selenium.webdriver.common.keys import Keys\n",
    "from selenium.webdriver.common.actions import mouse_button\n",
    "from selenium.webdriver.common.by import By\n",
    "from selenium.webdriver.support.ui import WebDriverWait\n",
    "from selenium.webdriver.support import expected_conditions as EC\n",
    "import time"
   ]
  },
  {
   "cell_type": "code",
   "execution_count": null,
   "metadata": {},
   "outputs": [],
   "source": [
    "PATH = '/Applications/chromedriver'\n",
    "driver = webdriver.Chrome(PATH)\n",
    "fox_URL = 'https://www.techwithtim.net'\n",
    "driver.get(fox_URL)\n",
    "\n",
    "\n",
    "link = driver.find_element(By.LINK_TEXT, 'Python Programming')\n",
    "link.click()\n",
    "\n",
    "# search = driver.find_element(By.NAME, 's')\n",
    "# search.send_keys(\"test\")\n",
    "# search.send_keys(Keys.RETURN)\n",
    "# try:\n",
    "#     main = WebDriverWait(driver, 10).until(\n",
    "#         EC.presence_of_element_located((By.ID, \"main\"))\n",
    "#     )\n",
    "\n",
    "#     articles = main.find_elements(By.TAG_NAME, 'article')\n",
    "\n",
    "#     for article in articles:\n",
    "#         header = article.find_element(By.CLASS_NAME, 'entry-summary')\n",
    "#         print(header.text)\n",
    "\n",
    "# finally:\n",
    "#     driver.quit()"
   ]
  }
 ],
 "metadata": {
  "language_info": {
   "name": "python"
  },
  "orig_nbformat": 4
 },
 "nbformat": 4,
 "nbformat_minor": 2
}
